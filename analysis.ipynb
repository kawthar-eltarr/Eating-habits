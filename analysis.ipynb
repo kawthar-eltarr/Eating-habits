{
 "cells": [
  {
   "cell_type": "markdown",
   "id": "9fa1fcf6",
   "metadata": {},
   "source": [
    "# Perceptron from scratch"
   ]
  },
  {
   "cell_type": "markdown",
   "id": "ffde1708",
   "metadata": {},
   "source": [
    "# Libaries import"
   ]
  },
  {
   "cell_type": "code",
   "execution_count": 39,
   "id": "dc29f436",
   "metadata": {},
   "outputs": [],
   "source": [
    "import pandas as pd\n",
    "import matplotlib.pyplot as plt"
   ]
  },
  {
   "cell_type": "markdown",
   "id": "71ed2bd2",
   "metadata": {},
   "source": [
    "# Load data"
   ]
  },
  {
   "cell_type": "code",
   "execution_count": 40,
   "id": "ef76a62d",
   "metadata": {
    "scrolled": true
   },
   "outputs": [
    {
     "data": {
      "text/html": [
       "<div>\n",
       "<style scoped>\n",
       "    .dataframe tbody tr th:only-of-type {\n",
       "        vertical-align: middle;\n",
       "    }\n",
       "\n",
       "    .dataframe tbody tr th {\n",
       "        vertical-align: top;\n",
       "    }\n",
       "\n",
       "    .dataframe thead th {\n",
       "        text-align: right;\n",
       "    }\n",
       "</style>\n",
       "<table border=\"1\" class=\"dataframe\">\n",
       "  <thead>\n",
       "    <tr style=\"text-align: right;\">\n",
       "      <th></th>\n",
       "      <th>Date</th>\n",
       "      <th>Type</th>\n",
       "      <th>Calories</th>\n",
       "      <th>Glucides</th>\n",
       "      <th>Protéines</th>\n",
       "      <th>Lipides</th>\n",
       "    </tr>\n",
       "  </thead>\n",
       "  <tbody>\n",
       "    <tr>\n",
       "      <th>0</th>\n",
       "      <td>26/02/2024</td>\n",
       "      <td>Banane</td>\n",
       "      <td>134</td>\n",
       "      <td>34,3</td>\n",
       "      <td>1,6</td>\n",
       "      <td>0,5</td>\n",
       "    </tr>\n",
       "    <tr>\n",
       "      <th>1</th>\n",
       "      <td>26/02/2024</td>\n",
       "      <td>Sandwich au thon</td>\n",
       "      <td>637</td>\n",
       "      <td>76</td>\n",
       "      <td>24,5</td>\n",
       "      <td>29,4</td>\n",
       "    </tr>\n",
       "    <tr>\n",
       "      <th>2</th>\n",
       "      <td>26/02/2024</td>\n",
       "      <td>Boîte de thon</td>\n",
       "      <td>216</td>\n",
       "      <td>0,6</td>\n",
       "      <td>27,5</td>\n",
       "      <td>14,3</td>\n",
       "    </tr>\n",
       "    <tr>\n",
       "      <th>3</th>\n",
       "      <td>26/02/2024</td>\n",
       "      <td>Kinder maxi</td>\n",
       "      <td>238</td>\n",
       "      <td>22,5</td>\n",
       "      <td>3,7</td>\n",
       "      <td>14,7</td>\n",
       "    </tr>\n",
       "    <tr>\n",
       "      <th>4</th>\n",
       "      <td>27/02/2024</td>\n",
       "      <td>Croissant aldi</td>\n",
       "      <td>157</td>\n",
       "      <td>17</td>\n",
       "      <td>3</td>\n",
       "      <td>8</td>\n",
       "    </tr>\n",
       "    <tr>\n",
       "      <th>5</th>\n",
       "      <td>27/02/2024</td>\n",
       "      <td>Skyr 500g</td>\n",
       "      <td>274</td>\n",
       "      <td>15,4</td>\n",
       "      <td>46,6</td>\n",
       "      <td>2,4</td>\n",
       "    </tr>\n",
       "    <tr>\n",
       "      <th>6</th>\n",
       "      <td>27/02/2024</td>\n",
       "      <td>Onigiri x2</td>\n",
       "      <td>365</td>\n",
       "      <td>47,5</td>\n",
       "      <td>11,5</td>\n",
       "      <td>15</td>\n",
       "    </tr>\n",
       "    <tr>\n",
       "      <th>7</th>\n",
       "      <td>27/02/2024</td>\n",
       "      <td>Mojito fraise</td>\n",
       "      <td>46</td>\n",
       "      <td>11</td>\n",
       "      <td>0,5</td>\n",
       "      <td>0,5</td>\n",
       "    </tr>\n",
       "    <tr>\n",
       "      <th>8</th>\n",
       "      <td>27/02/2024</td>\n",
       "      <td>Jambon Merrakchia</td>\n",
       "      <td>174</td>\n",
       "      <td>0,8</td>\n",
       "      <td>15</td>\n",
       "      <td>12</td>\n",
       "    </tr>\n",
       "    <tr>\n",
       "      <th>9</th>\n",
       "      <td>27/02/2024</td>\n",
       "      <td>Clear Whey</td>\n",
       "      <td>87</td>\n",
       "      <td>0,7</td>\n",
       "      <td>20,8</td>\n",
       "      <td>0,1</td>\n",
       "    </tr>\n",
       "    <tr>\n",
       "      <th>10</th>\n",
       "      <td>28/02/2024</td>\n",
       "      <td>Clear Whey</td>\n",
       "      <td>87</td>\n",
       "      <td>0,7</td>\n",
       "      <td>20,8</td>\n",
       "      <td>0,1</td>\n",
       "    </tr>\n",
       "  </tbody>\n",
       "</table>\n",
       "</div>"
      ],
      "text/plain": [
       "          Date               Type  Calories Glucides Protéines Lipides\n",
       "0   26/02/2024             Banane       134     34,3       1,6     0,5\n",
       "1   26/02/2024   Sandwich au thon       637       76      24,5    29,4\n",
       "2   26/02/2024      Boîte de thon       216      0,6      27,5    14,3\n",
       "3   26/02/2024        Kinder maxi       238     22,5       3,7    14,7\n",
       "4   27/02/2024     Croissant aldi       157       17         3       8\n",
       "5   27/02/2024          Skyr 500g       274     15,4      46,6     2,4\n",
       "6   27/02/2024         Onigiri x2       365     47,5      11,5      15\n",
       "7   27/02/2024      Mojito fraise        46       11       0,5     0,5\n",
       "8   27/02/2024  Jambon Merrakchia       174      0,8        15      12\n",
       "9   27/02/2024         Clear Whey        87      0,7      20,8     0,1\n",
       "10  28/02/2024         Clear Whey        87      0,7      20,8     0,1"
      ]
     },
     "execution_count": 40,
     "metadata": {},
     "output_type": "execute_result"
    }
   ],
   "source": [
    "df = pd.read_csv(r\"C:\\Users\\La Plateforme\\Desktop\\Eating-habits\\eating_habits.csv\")\n",
    "df"
   ]
  },
  {
   "cell_type": "markdown",
   "id": "b6907d21",
   "metadata": {},
   "source": [
    "## Data frame information"
   ]
  },
  {
   "cell_type": "code",
   "execution_count": 41,
   "id": "44d83e1b",
   "metadata": {},
   "outputs": [
    {
     "name": "stdout",
     "output_type": "stream",
     "text": [
      "<class 'pandas.core.frame.DataFrame'>\n",
      "RangeIndex: 11 entries, 0 to 10\n",
      "Data columns (total 6 columns):\n",
      " #   Column     Non-Null Count  Dtype \n",
      "---  ------     --------------  ----- \n",
      " 0   Date       11 non-null     object\n",
      " 1   Type       11 non-null     object\n",
      " 2   Calories   11 non-null     int64 \n",
      " 3   Glucides   11 non-null     object\n",
      " 4   Protéines  11 non-null     object\n",
      " 5   Lipides    11 non-null     object\n",
      "dtypes: int64(1), object(5)\n",
      "memory usage: 656.0+ bytes\n"
     ]
    }
   ],
   "source": [
    "df.info()"
   ]
  },
  {
   "cell_type": "markdown",
   "id": "1f3d27f3",
   "metadata": {},
   "source": [
    "## Convert date to datetime format"
   ]
  },
  {
   "cell_type": "code",
   "execution_count": 42,
   "id": "5a2ba520",
   "metadata": {},
   "outputs": [
    {
     "data": {
      "text/plain": [
       "Timestamp('2024-02-26 00:00:00')"
      ]
     },
     "execution_count": 42,
     "metadata": {},
     "output_type": "execute_result"
    }
   ],
   "source": [
    "df[\"Date\"] = pd.to_datetime(df[\"Date\"], dayfirst=True)\n",
    "df[\"Date\"][0]"
   ]
  },
  {
   "cell_type": "markdown",
   "id": "fc204ee5",
   "metadata": {},
   "source": [
    "## Convert decimal numbers french to english format"
   ]
  },
  {
   "cell_type": "code",
   "execution_count": 45,
   "id": "9ffa5e38",
   "metadata": {},
   "outputs": [],
   "source": [
    "def convert_to_english(value):\n",
    "    if isinstance(value, str):\n",
    "        return float(value.replace(\",\", \".\"))\n",
    "    return value"
   ]
  },
  {
   "cell_type": "code",
   "execution_count": 46,
   "id": "f91e736f",
   "metadata": {},
   "outputs": [
    {
     "name": "stdout",
     "output_type": "stream",
     "text": [
      "<class 'pandas.core.frame.DataFrame'>\n",
      "RangeIndex: 11 entries, 0 to 10\n",
      "Data columns (total 6 columns):\n",
      " #   Column     Non-Null Count  Dtype         \n",
      "---  ------     --------------  -----         \n",
      " 0   Date       11 non-null     datetime64[ns]\n",
      " 1   Type       11 non-null     object        \n",
      " 2   Calories   11 non-null     int64         \n",
      " 3   Glucides   11 non-null     float64       \n",
      " 4   Protéines  11 non-null     float64       \n",
      " 5   Lipides    11 non-null     float64       \n",
      "dtypes: datetime64[ns](1), float64(3), int64(1), object(1)\n",
      "memory usage: 656.0+ bytes\n"
     ]
    }
   ],
   "source": [
    "columns_to_convert = df.columns[2:]\n",
    "\n",
    "df[columns_to_convert] = df[columns_to_convert].applymap(convert_to_english)"
   ]
  }
 ],
 "metadata": {
  "kernelspec": {
   "display_name": "Python 3 (ipykernel)",
   "language": "python",
   "name": "python3"
  },
  "language_info": {
   "codemirror_mode": {
    "name": "ipython",
    "version": 3
   },
   "file_extension": ".py",
   "mimetype": "text/x-python",
   "name": "python",
   "nbconvert_exporter": "python",
   "pygments_lexer": "ipython3",
   "version": "3.10.7"
  },
  "vscode": {
   "interpreter": {
    "hash": "624405580013dda22da8e3237a2317ee23eeade3b1640704561605c794185e31"
   }
  }
 },
 "nbformat": 4,
 "nbformat_minor": 5
}
